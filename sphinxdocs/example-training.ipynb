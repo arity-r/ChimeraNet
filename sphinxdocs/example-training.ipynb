{
 "cells": [
  {
   "cell_type": "markdown",
   "metadata": {},
   "source": [
    "# Training\n"
   ]
  },
  {
   "cell_type": "markdown",
   "metadata": {},
   "source": [
    "### Building and compiling a model"
   ]
  },
  {
   "cell_type": "code",
   "execution_count": 1,
   "metadata": {},
   "outputs": [],
   "source": [
    "%%capture\n",
    "import h5py\n",
    "from chimeranet.model import ChimeraPPModel\n",
    "\n",
    "# probe shape of dataset and set embedding dimension\n",
    "dataset_path = 'example-dataset.hdf5'\n",
    "with h5py.File(dataset_path, 'r') as f:\n",
    "    _, C, F, T = f['specs_train'].shape\n",
    "D = 20\n",
    "cm = ChimeraPPModel(T, F, C, D)\n",
    "\n",
    "# build_model returns Keras' Model object\n",
    "model = cm.build_model(mask='softmax')\n",
    "model.compile(\n",
    "    'rmsprop',\n",
    "    loss={\n",
    "        'embedding': cm.loss_deepclustering(),\n",
    "        'mask': cm.loss_mask()\n",
    "    },\n",
    "    loss_weights={\n",
    "        'embedding': 0.9,\n",
    "        'mask': 0.1\n",
    "    }\n",
    ")"
   ]
  },
  {
   "cell_type": "markdown",
   "metadata": {},
   "source": [
    "### Training a model"
   ]
  },
  {
   "cell_type": "code",
   "execution_count": 2,
   "metadata": {},
   "outputs": [
    {
     "name": "stdout",
     "output_type": "stream",
     "text": [
      "Train on 320 samples, validate on 320 samples\n",
      "Epoch 1/10\n",
      "320/320 [==============================] - 229s 714ms/step - loss: 17003.3059 - embedding_loss: 10783.3487 - mask_loss: 72982.9227 - val_loss: 13945.3063 - val_embedding_loss: 8448.1246 - val_mask_loss: 63419.9402\n",
      "Epoch 2/10\n",
      "320/320 [==============================] - 220s 686ms/step - loss: 16263.3183 - embedding_loss: 9501.0065 - mask_loss: 77124.1242 - val_loss: 13968.2887 - val_embedding_loss: 8483.1206 - val_mask_loss: 63334.8023\n",
      "Epoch 3/10\n",
      "320/320 [==============================] - 229s 717ms/step - loss: 13858.2923 - embedding_loss: 8357.1154 - mask_loss: 63368.8863 - val_loss: 13331.5953 - val_embedding_loss: 8231.6581 - val_mask_loss: 59231.0293\n",
      "Epoch 4/10\n",
      "320/320 [==============================] - 228s 711ms/step - loss: 13583.9371 - embedding_loss: 8371.6234 - mask_loss: 60494.7609 - val_loss: 13335.9337 - val_embedding_loss: 8207.0659 - val_mask_loss: 59495.7453\n",
      "Epoch 5/10\n",
      "320/320 [==============================] - 266s 832ms/step - loss: 13511.2723 - embedding_loss: 8293.4189 - mask_loss: 60471.9520 - val_loss: 13286.5097 - val_embedding_loss: 8211.3033 - val_mask_loss: 58963.3664\n",
      "Epoch 6/10\n",
      "320/320 [==============================] - 255s 795ms/step - loss: 13456.3530 - embedding_loss: 8322.8688 - mask_loss: 59657.7113 - val_loss: 13562.0700 - val_embedding_loss: 8346.3349 - val_mask_loss: 60503.6883\n",
      "Epoch 7/10\n",
      "320/320 [==============================] - 284s 886ms/step - loss: 13448.8960 - embedding_loss: 8255.8210 - mask_loss: 60186.5707 - val_loss: 13443.8649 - val_embedding_loss: 8438.6134 - val_mask_loss: 58491.1285\n",
      "Epoch 8/10\n",
      "320/320 [==============================] - 301s 941ms/step - loss: 13436.9629 - embedding_loss: 8239.3518 - mask_loss: 60215.4629 - val_loss: 13383.8507 - val_embedding_loss: 8350.3388 - val_mask_loss: 58685.4586\n",
      "Epoch 9/10\n",
      "320/320 [==============================] - 323s 1s/step - loss: 13350.3758 - embedding_loss: 8234.3646 - mask_loss: 59394.4770 - val_loss: 13345.2675 - val_embedding_loss: 8231.7089 - val_mask_loss: 59367.2965\n",
      "Epoch 10/10\n",
      "320/320 [==============================] - 329s 1s/step - loss: 13467.0676 - embedding_loss: 8263.6016 - mask_loss: 60298.2648 - val_loss: 13316.9633 - val_embedding_loss: 8271.7642 - val_mask_loss: 58723.7559\n"
     ]
    }
   ],
   "source": [
    "from chimeranet.preprocessing import to_mixture, to_true_pair\n",
    "\n",
    "# load data first\n",
    "with h5py.File(dataset_path, 'r') as f:\n",
    "    specs_train = f['specs_train'][()]\n",
    "    specs_validation = f['specs_validation'][()]\n",
    "\n",
    "x_train = to_mixture(specs_train)\n",
    "y_train = to_true_pair(specs_validation, noise=1e-16, mask='softmax')\n",
    "x_validation = to_mixture(specs_validation)\n",
    "y_validation = to_true_pair(specs_validation, noise=1e-16, mask='softmax')\n",
    "\n",
    "# train model by model.fit function\n",
    "history = model.fit(\n",
    "    x=x_train,\n",
    "    y=y_train,\n",
    "    validation_data=(x_validation, y_validation),\n",
    "    batch_size=32,\n",
    "    epochs=10\n",
    ")\n",
    "# save the model\n",
    "model_path = 'example-model.hdf5'\n",
    "model.save(model_path)"
   ]
  },
  {
   "cell_type": "markdown",
   "metadata": {},
   "source": [
    "### Showing learning curve\n",
    "\n",
    "Also, you can plot learning curve. for more information, see keras documentation"
   ]
  },
  {
   "cell_type": "code",
   "execution_count": 3,
   "metadata": {},
   "outputs": [
    {
     "data": {
      "text/plain": [
       "<matplotlib.legend.Legend at 0xdfc786eb00>"
      ]
     },
     "execution_count": 3,
     "metadata": {},
     "output_type": "execute_result"
    },
    {
     "data": {
      "image/png": "[encoded data removed]",
      "text/plain": [
       "<Figure size 432x288 with 1 Axes>"
      ]
     },
     "metadata": {
      "needs_background": "light"
     },
     "output_type": "display_data"
    }
   ],
   "source": [
    "%matplotlib inline\n",
    "import matplotlib.pyplot as plt\n",
    "for k, v in history.history.items():\n",
    "    plt.plot(v, label=k)\n",
    "plt.xlabel('epochs')\n",
    "plt.ylabel('loss')\n",
    "plt.legend(bbox_to_anchor=(1, 1), bbox_transform=plt.gcf().transFigure)"
   ]
  }
 ],
 "metadata": {
  "kernelspec": {
   "display_name": "Python 3",
   "language": "python",
   "name": "python3"
  },
  "language_info": {
   "codemirror_mode": {
    "name": "ipython",
    "version": 3
   },
   "file_extension": ".py",
   "mimetype": "text/x-python",
   "name": "python",
   "nbconvert_exporter": "python",
   "pygments_lexer": "ipython3",
   "version": "3.6.8"
  }
 },
 "nbformat": 4,
 "nbformat_minor": 2
}
